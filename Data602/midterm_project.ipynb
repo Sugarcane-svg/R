{
  "nbformat": 4,
  "nbformat_minor": 0,
  "metadata": {
    "colab": {
      "name": "midterm_project.ipynb",
      "provenance": [],
      "include_colab_link": true
    },
    "kernelspec": {
      "name": "python3",
      "display_name": "Python 3.9.5 64-bit"
    },
    "language_info": {
      "name": "python",
      "version": "3.9.5",
      "mimetype": "text/x-python",
      "codemirror_mode": {
        "name": "ipython",
        "version": 3
      },
      "pygments_lexer": "ipython3",
      "nbconvert_exporter": "python",
      "file_extension": ".py"
    },
    "interpreter": {
      "hash": "aee8b7b246df8f9039afb4144a1f6fd8d2ca17a180786b69acc140d282b71a49"
    }
  },
  "cells": [
    {
      "cell_type": "markdown",
      "metadata": {
        "id": "view-in-github",
        "colab_type": "text"
      },
      "source": [
        "<a href=\"https://colab.research.google.com/github/Sugarcane-svg/R/blob/main/Data602/midterm_project.ipynb\" target=\"_parent\"><img src=\"https://colab.research.google.com/assets/colab-badge.svg\" alt=\"Open In Colab\"/></a>"
      ]
    },
    {
      "cell_type": "markdown",
      "metadata": {
        "id": "rd2QZetSDszc"
      },
      "source": [
        "# Midterm 602\n",
        "\n",
        "\n",
        "* In this  assignment, you will explore and analyze a public dataset of your choosing. Since this assignment is “open-ended” in nature, you are free to expand upon the requirements below. However, you must meet the minimum requirments as indicated in each section. \n",
        "\n",
        "* You must use Pandas as the **primary tool** to process your data.\n",
        "\n",
        "* The preferred method for this analysis is in a .ipynb file. Feel free to use whichever platform of your choosing.  \n",
        " * https://www.youtube.com/watch?v=inN8seMm7UI (Getting started with Colab).\n",
        "\n",
        "* Your data should need some \"work\", or be considered \"dirty\".  You must show your skills in data cleaning/wrangling.\n",
        "\n",
        "### Data examples:\n",
        "•\thttps://www.data.gov/\n",
        "\n",
        "•\thttps://opendata.cityofnewyork.us/\n",
        "\n",
        "•\thttps://datasetsearch.research.google.com/\n",
        "\n",
        "•\thttps://archive.ics.uci.edu/ml/index.php\n",
        "\n",
        "### Resources:\n",
        "\n",
        "•\thttps://pandas.pydata.org/pandas-docs/stable/getting_started/10min.html \n",
        "\n",
        "•\thttps://pandas.pydata.org/pandas-docs/stable/user_guide/visualization.html\n",
        "\n",
        "\n",
        "### Headings or comments\n",
        "**You are required to make use of comments, or headings for each section.  You must explain what your code is doing, and the results of running your code.**  Act as if you were giving this assignment to your manager - you must include clear and descriptive information for each section.\n",
        "\n",
        "\n"
      ]
    },
    {
      "cell_type": "markdown",
      "metadata": {
        "id": "uW3w6p8rqgxu"
      },
      "source": [
        "# Research Question\n",
        "\n",
        "In this section, please state the question you are trying to solve.  As mentioned, this assignment is opened-ended, so you are free to choose a research question, and corrosponding data sources, of your choosing."
      ]
    },
    {
      "cell_type": "markdown",
      "metadata": {
        "id": "L0PnfMOFzOXz"
      },
      "source": [
        "Due to covid-19, more and more works are moving into remote condition. People are now can work from home instead of going to physical office. Therefore, they save time in driving. Moreover, there are the shortage of car, assume that the population of purchasing cars is reduce, the car crash should decrease"
      ]
    },
    {
      "cell_type": "markdown",
      "metadata": {
        "id": "3bp8cdDxDs2t"
      },
      "source": [
        "______________\n",
        "# Data Exploration\n",
        "Import your dataset into your .ipynb, create dataframes, and explore your data.  \n",
        "\n",
        "Include: \n",
        "\n",
        "* Summary statistics means, medians, quartiles, \n",
        "* Missing value information\n",
        "* Any other relevant information about the dataset.  \n",
        "\n"
      ]
    },
    {
      "cell_type": "code",
      "metadata": {
        "id": "1OJmbafkEhhq"
      },
      "source": [
        "# import libraries\n",
        "import numpy as np\n",
        "import pandas as pd\n",
        "import matplotlib.pyplot as plt"
      ],
      "execution_count": 40,
      "outputs": []
    },
    {
      "cell_type": "code",
      "metadata": {
        "id": "TyH_6oBmrTY7",
        "colab": {
          "base_uri": "https://localhost:8080/"
        },
        "outputId": "3199ea4a-0191-432b-86ec-fc6962d5201a"
      },
      "source": [
        "# get the data set\n",
        "collision = pd.read_csv(\"/content/Motor_Vehicle_Collisions_-_Crashes.csv\")\n",
        "\n"
      ],
      "execution_count": 58,
      "outputs": [
        {
          "output_type": "stream",
          "name": "stderr",
          "text": [
            "/usr/local/lib/python3.7/dist-packages/IPython/core/interactiveshell.py:2718: DtypeWarning: Columns (3) have mixed types.Specify dtype option on import or set low_memory=False.\n",
            "  interactivity=interactivity, compiler=compiler, result=result)\n"
          ]
        }
      ]
    },
    {
      "cell_type": "code",
      "metadata": {
        "id": "WHfK1I5QM2iY"
      },
      "source": [
        "# copy of original data\n",
        "df = pd.DataFrame(collision)"
      ],
      "execution_count": 130,
      "outputs": []
    },
    {
      "cell_type": "markdown",
      "metadata": {
        "id": "McoT3i4nCuaZ"
      },
      "source": [
        "I already briefly taken a look of the dataset, there are more than 10 columns and over 1 million rows. However, I am still going to show some information just so everyone have some idea of what it is."
      ]
    },
    {
      "cell_type": "code",
      "metadata": {
        "colab": {
          "base_uri": "https://localhost:8080/"
        },
        "id": "4K1kMrCCCbp8",
        "outputId": "766ba933-e188-4382-f552-7f6f7100a877"
      },
      "source": [
        "# number of columns\n",
        "df.columns = df.columns.str.lower()\n",
        "df.columns = df.columns.str.replace(' ', '_')\n",
        "df.columns"
      ],
      "execution_count": 131,
      "outputs": [
        {
          "output_type": "execute_result",
          "data": {
            "text/plain": [
              "Index(['crash_date', 'crash_time', 'borough', 'zip_code', 'latitude',\n",
              "       'longitude', 'location', 'on_street_name', 'cross_street_name',\n",
              "       'off_street_name', 'number_of_persons_injured',\n",
              "       'number_of_persons_killed', 'number_of_pedestrians_injured',\n",
              "       'number_of_pedestrians_killed', 'number_of_cyclist_injured',\n",
              "       'number_of_cyclist_killed', 'number_of_motorist_injured',\n",
              "       'number_of_motorist_killed', 'contributing_factor_vehicle_1',\n",
              "       'contributing_factor_vehicle_2', 'contributing_factor_vehicle_3',\n",
              "       'contributing_factor_vehicle_4', 'contributing_factor_vehicle_5',\n",
              "       'collision_id', 'vehicle_type_code_1', 'vehicle_type_code_2',\n",
              "       'vehicle_type_code_3', 'vehicle_type_code_4', 'vehicle_type_code_5'],\n",
              "      dtype='object')"
            ]
          },
          "metadata": {},
          "execution_count": 131
        }
      ]
    },
    {
      "cell_type": "code",
      "metadata": {
        "colab": {
          "base_uri": "https://localhost:8080/",
          "height": 428
        },
        "id": "4HWF-3h5XUHw",
        "outputId": "1bf920e9-3811-40ac-a36a-4e39fc2d679a"
      },
      "source": [
        "# number of rows\n",
        "len(df)\n",
        "\n",
        "\n",
        "# distribution of missing values\n",
        "df.isna().sum().plot(kind = 'bar', title = 'NaNs in values', x = 'values', y = 'counts')\n",
        "plt.show()"
      ],
      "execution_count": 132,
      "outputs": [
        {
          "output_type": "display_data",
          "data": {
            "image/png": "[encoded data removed]",
            "text/plain": [
              "<Figure size 432x288 with 1 Axes>"
            ]
          },
          "metadata": {
            "needs_background": "light"
          }
        }
      ]
    },
    {
      "cell_type": "markdown",
      "metadata": {
        "id": "HWb1k3piJWF1"
      },
      "source": [
        "as we can see from the plot, the missing values in 'off_street_name', 'cross_street_name', 'contributing_factor_vehicle_2' to 'contributing_factor_vehicle_5', 'vehicle_type_code_2' to 'vehicle_type_code_5' have relatively high missing values. and we don't really care about the exact time collision happen, and the collision ID. Logitude, latitude and location seem a bit tedious. Therefore, I am going to drop all these columns to make the data narrower."
      ]
    },
    {
      "cell_type": "code",
      "metadata": {
        "id": "2qe34-GbXZS-"
      },
      "source": [
        "# dropping unnesessary columns\n",
        "df.drop(['off_street_name',\n",
        "               'cross_street_name',\n",
        "               'contributing_factor_vehicle_2',\n",
        "               'contributing_factor_vehicle_3',\n",
        "               'contributing_factor_vehicle_4',\n",
        "               'contributing_factor_vehicle_5',\n",
        "               'vehicle_type_code_2',\n",
        "               'vehicle_type_code_3',\n",
        "               'vehicle_type_code_4',\n",
        "               'vehicle_type_code_5',\n",
        "               'crash_time',\n",
        "               'collision_id',\n",
        "               'longitude',\n",
        "               'latitude',\n",
        "         'zip_code'], axis = 1, inplace = True)\n"
      ],
      "execution_count": 133,
      "outputs": []
    },
    {
      "cell_type": "code",
      "metadata": {
        "colab": {
          "base_uri": "https://localhost:8080/"
        },
        "id": "fN78W_WxYn2F",
        "outputId": "6bc2b14f-1419-48ea-f4c4-c9281a6b288e"
      },
      "source": [
        "df.isna().sum().sort_values(ascending = False)"
      ],
      "execution_count": 134,
      "outputs": [
        {
          "output_type": "execute_result",
          "data": {
            "text/plain": [
              "borough                          566450\n",
              "on_street_name                   374661\n",
              "location                         217763\n",
              "vehicle_type_code_1               10036\n",
              "contributing_factor_vehicle_1      5276\n",
              "number_of_persons_killed             31\n",
              "number_of_persons_injured            18\n",
              "number_of_motorist_killed             0\n",
              "number_of_motorist_injured            0\n",
              "number_of_cyclist_killed              0\n",
              "number_of_cyclist_injured             0\n",
              "number_of_pedestrians_killed          0\n",
              "number_of_pedestrians_injured         0\n",
              "crash_date                            0\n",
              "dtype: int64"
            ]
          },
          "metadata": {},
          "execution_count": 134
        }
      ]
    },
    {
      "cell_type": "markdown",
      "metadata": {
        "id": "CdeRxy3wRmjW"
      },
      "source": [
        "So we see that the missing values in columns  from 'number_of_pedestrian_injured' to 'number_of_motorist_killed' have no missing values, so we leave them as the way they are. column 'contributing_factor_vehicle_1' and 'vehicle_type_code1' only has a tiny amount of missing value compare to the whole, I will leave it alone because it doesn't seem to affect the analysis later. The major problem is that the top three value has lots of missing value, so we need to deal with them with extra care.\n",
        "*********\n",
        "\n"
      ]
    },
    {
      "cell_type": "markdown",
      "metadata": {
        "id": "I06ABWwjUxKH"
      },
      "source": [
        "### How is NaNs distributed over recorded years?"
      ]
    },
    {
      "cell_type": "code",
      "metadata": {
        "id": "q22zU3b5NGxT"
      },
      "source": [
        "# extract year from column 'crash_date'\n",
        "df['crash_date'] = pd.to_datetime(df['crash_date'], infer_datetime_format=True)\n",
        "df['crash_date'] = df['crash_date'].dt.year"
      ],
      "execution_count": 135,
      "outputs": []
    },
    {
      "cell_type": "code",
      "metadata": {
        "colab": {
          "base_uri": "https://localhost:8080/"
        },
        "id": "3AeTyTBiZ8js",
        "outputId": "0e16a4bf-1b09-4c10-8fb3-278f54986ed4"
      },
      "source": [
        "df['crash_date'].value_counts().sort_index(ascending = False)"
      ],
      "execution_count": 136,
      "outputs": [
        {
          "output_type": "execute_result",
          "data": {
            "text/plain": [
              "2021     89644\n",
              "2020    112891\n",
              "2019    211482\n",
              "2018    231563\n",
              "2017    231008\n",
              "2016    229831\n",
              "2015    217694\n",
              "2014    206033\n",
              "2013    203734\n",
              "2012    100546\n",
              "Name: crash_date, dtype: int64"
            ]
          },
          "metadata": {},
          "execution_count": 136
        }
      ]
    },
    {
      "cell_type": "code",
      "metadata": {
        "colab": {
          "base_uri": "https://localhost:8080/",
          "height": 181
        },
        "id": "GhLBDrDZa6cX",
        "outputId": "aa4fa491-2f1d-4676-b282-1d9b983296a2"
      },
      "source": [
        "temp = df.groupby('crash_date')['borough'].value_counts(dropna = False)\n",
        "plt.plot(df['crash_date'], temp)"
      ],
      "execution_count": 1,
      "outputs": [
        {
          "output_type": "error",
          "ename": "NameError",
          "evalue": "ignored",
          "traceback": [
            "\u001b[0;31m---------------------------------------------------------------------------\u001b[0m",
            "\u001b[0;31mNameError\u001b[0m                                 Traceback (most recent call last)",
            "\u001b[0;32m<ipython-input-1-183ef4734b67>\u001b[0m in \u001b[0;36m<module>\u001b[0;34m()\u001b[0m\n\u001b[0;32m----> 1\u001b[0;31m \u001b[0mtemp\u001b[0m \u001b[0;34m=\u001b[0m \u001b[0mdf\u001b[0m\u001b[0;34m.\u001b[0m\u001b[0mgroupby\u001b[0m\u001b[0;34m(\u001b[0m\u001b[0;34m'crash_date'\u001b[0m\u001b[0;34m)\u001b[0m\u001b[0;34m[\u001b[0m\u001b[0;34m'borough'\u001b[0m\u001b[0;34m]\u001b[0m\u001b[0;34m.\u001b[0m\u001b[0mvalue_counts\u001b[0m\u001b[0;34m(\u001b[0m\u001b[0mdropna\u001b[0m \u001b[0;34m=\u001b[0m \u001b[0;32mFalse\u001b[0m\u001b[0;34m)\u001b[0m\u001b[0;34m\u001b[0m\u001b[0;34m\u001b[0m\u001b[0m\n\u001b[0m\u001b[1;32m      2\u001b[0m \u001b[0mplt\u001b[0m\u001b[0;34m.\u001b[0m\u001b[0mplot\u001b[0m\u001b[0;34m(\u001b[0m\u001b[0mdf\u001b[0m\u001b[0;34m[\u001b[0m\u001b[0;34m'crash_date'\u001b[0m\u001b[0;34m]\u001b[0m\u001b[0;34m,\u001b[0m \u001b[0mtemp\u001b[0m\u001b[0;34m)\u001b[0m\u001b[0;34m\u001b[0m\u001b[0;34m\u001b[0m\u001b[0m\n",
            "\u001b[0;31mNameError\u001b[0m: name 'df' is not defined"
          ]
        }
      ]
    },
    {
      "cell_type": "code",
      "metadata": {
        "colab": {
          "base_uri": "https://localhost:8080/"
        },
        "id": "Pa75wSegeEiR",
        "outputId": "59effc18-b5ec-438c-a03f-c1e43117d0c7"
      },
      "source": [
        "pd.isnull(df.groupby(df['crash_date'])['borough'])"
      ],
      "execution_count": 141,
      "outputs": [
        {
          "output_type": "execute_result",
          "data": {
            "text/plain": [
              "False"
            ]
          },
          "metadata": {},
          "execution_count": 141
        }
      ]
    },
    {
      "cell_type": "markdown",
      "metadata": {
        "id": "q4xtkGEwJVGR"
      },
      "source": [
        "we see that in [which] year, the missing value there are more missing values than others "
      ]
    },
    {
      "cell_type": "code",
      "metadata": {
        "colab": {
          "base_uri": "https://localhost:8080/"
        },
        "id": "1_gqFolRXjZE",
        "outputId": "bc8d75b3-d8de-4cd8-c2db-9b14a80f2df9"
      },
      "source": [
        "# mean, median, quartiles\n",
        "collision.describe"
      ],
      "execution_count": null,
      "outputs": [
        {
          "output_type": "execute_result",
          "data": {
            "text/plain": [
              "<bound method NDFrame.describe of                   crash_date crash_time  ... vehicle_type_code_4  vehicle_type_code_5\n",
              "0    2021-04-14T00:00:00.000       5:32  ...                 NaN                  NaN\n",
              "1    2021-04-13T00:00:00.000      21:35  ...                 NaN                  NaN\n",
              "2    2021-04-15T00:00:00.000      16:15  ...                 NaN                  NaN\n",
              "3    2021-04-13T00:00:00.000      16:00  ...                 NaN                  NaN\n",
              "4    2021-04-12T00:00:00.000       8:25  ...                 NaN                  NaN\n",
              "..                       ...        ...  ...                 ...                  ...\n",
              "995  2021-04-17T00:00:00.000      18:59  ...                 NaN                  NaN\n",
              "996  2021-04-17T00:00:00.000      14:10  ...                 NaN                  NaN\n",
              "997  2021-04-06T00:00:00.000       8:23  ...                 NaN                  NaN\n",
              "998  2021-04-17T00:00:00.000       0:55  ...                 NaN                  NaN\n",
              "999  2021-04-13T00:00:00.000      19:00  ...                 NaN                  NaN\n",
              "\n",
              "[1000 rows x 29 columns]>"
            ]
          },
          "metadata": {},
          "execution_count": 15
        }
      ]
    },
    {
      "cell_type": "markdown",
      "metadata": {
        "id": "kCSLIafaEGVK"
      },
      "source": [
        "# Data Wrangling\n",
        "Create a subset of your original data and perform the following.  \n",
        "\n",
        "1. Modify multiple column names.\n",
        "\n",
        "2. Fix any missing and invalid values in the data set.\n",
        "\n",
        "3. Create new columns based on existing columns or calculations.\n",
        "\n",
        "4. Drop column(s) from your dataset.\n",
        "\n",
        "5. Drop a row(s) from your dataset.\n",
        "\n",
        "6. Sort your data based on multiple variables. \n",
        "\n",
        "7. Filter your data based on some condition. \n",
        "\n",
        "8. Convert all the string values to upper or lower cases in one column.\n",
        "\n",
        "9. Check whether numeric values are present in a given column of your dataframe.\n",
        "\n",
        "10. Group your dataset by one column, and get the mean, min, and max values by group. \n",
        "  * Groupby()\n",
        "  * agg() or .apply()\n",
        "\n",
        "**You are free (and should) to add on to these questions.  Please clearly indicate in your assignment your answers to these questions.**"
      ]
    },
    {
      "cell_type": "markdown",
      "metadata": {
        "id": "umy8QpPjX2CX"
      },
      "source": [
        "As far we see that there are so many columns, and we are not focus on some of them, so I am going to reduce some columns such as 'CRASH TIME', 'ZIP CODE',  'LATITUDE', 'LONGITUDE', 'LOCATION', 'CROSS STREET NAME', 'OFF STREET NAME'. The data list one to five contributing factors vehicle, but we only considered the one which cause the collision, therefore, I am going to drop columns 'CONTRIBUTING FACTOR VEHICLE 2', 'CONTRIBUTING FACTOR VEHICLE 3', 'CONTRIBUTING FACTOR VEHICLE 4', 'CONTRIBUTING FACTOR VEHICLE 5', also with 'COLLISION_ID', 'VEHICLE TYPE CODE 2', 'VEHICLE TYPE CODE 3', 'VEHICLE TYPE CODE 4', 'VEHICLE TYPE CODE 5'"
      ]
    },
    {
      "cell_type": "code",
      "metadata": {
        "id": "4VWWvvynEiQT"
      },
      "source": [
        "collision.drop(['crash_time',\n",
        "                'zip_code',\n",
        "                'latitude',\n",
        "                'longitude',\n",
        "                'location',\n",
        "                'cross_street_name',\n",
        "                'off_street_name',\n",
        "                'contributing_factor_vehicle_2',\n",
        "                'contributing_factor_vehicle_3',\n",
        "                'contributing_factor_vehicle_4',\n",
        "                'contributing_factor_vehicle_5',\n",
        "                'collision_id',\n",
        "                'vehicle_type_code2',\n",
        "                'vehicle_type_code_3',\n",
        "                'vehicle_type_code_4',\n",
        "                'vehicle_type_code_5'], axis = 1, inplace = True)"
      ],
      "execution_count": null,
      "outputs": []
    },
    {
      "cell_type": "markdown",
      "metadata": {
        "id": "qkEjKqBcmckH"
      },
      "source": [
        "Then we are going to double check if there are still some missing values"
      ]
    },
    {
      "cell_type": "code",
      "metadata": {
        "id": "ZctjWfcmzNB7",
        "colab": {
          "base_uri": "https://localhost:8080/"
        },
        "outputId": "2446f021-83b8-415d-a06c-0fc25a05feb5"
      },
      "source": [
        "# missing values in sub_df\n",
        "collision.isna().sum()"
      ],
      "execution_count": null,
      "outputs": [
        {
          "output_type": "execute_result",
          "data": {
            "text/plain": [
              "crash_date                         0\n",
              "borough                          367\n",
              "on_street_name                   243\n",
              "number_of_persons_injured          0\n",
              "number_of_persons_killed           0\n",
              "number_of_pedestrians_injured      0\n",
              "number_of_pedestrians_killed       0\n",
              "number_of_cyclist_injured          0\n",
              "number_of_cyclist_killed           0\n",
              "number_of_motorist_injured         0\n",
              "number_of_motorist_killed          0\n",
              "contributing_factor_vehicle_1      1\n",
              "vehicle_type_code1                 7\n",
              "dtype: int64"
            ]
          },
          "metadata": {},
          "execution_count": 23
        }
      ]
    },
    {
      "cell_type": "markdown",
      "metadata": {
        "id": "YoK8G4yhD905"
      },
      "source": [
        "## Data Visualization\n",
        "Create a data visualization of your choosing on your dataset.  You may use Pandas or other libraries to complete your visualization (plotly, plotly express, seaborn, etc.)\n",
        "\n",
        "You must include, at the minimum three different plots and explain what these plots do.  Please do not just include a plot without a description.\n",
        "\n",
        "\n",
        "\n"
      ]
    },
    {
      "cell_type": "code",
      "metadata": {
        "id": "M2jxVzKcEium"
      },
      "source": [
        ""
      ],
      "execution_count": null,
      "outputs": []
    },
    {
      "cell_type": "code",
      "metadata": {
        "id": "s5CgxhL5zMx4"
      },
      "source": [
        ""
      ],
      "execution_count": null,
      "outputs": []
    },
    {
      "cell_type": "markdown",
      "metadata": {
        "id": "0qztpr9kD95U"
      },
      "source": [
        "# Conclusions \n",
        "Provide some conclusions or insight gained from looking at your data.\n"
      ]
    },
    {
      "cell_type": "markdown",
      "metadata": {
        "id": "vYHh2qZ8zL7H"
      },
      "source": [
        ""
      ]
    }
  ]
}